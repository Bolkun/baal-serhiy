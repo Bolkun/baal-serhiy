{
 "cells": [
  {
   "cell_type": "code",
   "execution_count": 1,
   "metadata": {},
   "outputs": [],
   "source": [
    "import pandas as pd\n",
    "import numpy as np"
   ]
  },
  {
   "cell_type": "code",
   "execution_count": 2,
   "metadata": {},
   "outputs": [],
   "source": [
    "mypickle = pd.read_pickle(\"uncertainty_epoch=0_labelled=40.pkl\")"
   ]
  },
  {
   "cell_type": "code",
   "execution_count": 3,
   "metadata": {},
   "outputs": [],
   "source": [
    "mypickle\n",
    "uncertainty = mypickle['uncertainty']\n",
    "oracle_indices = mypickle['oracle_indices']\n",
    "labelled_map = mypickle['labelled_map']"
   ]
  },
  {
   "cell_type": "code",
   "execution_count": 4,
   "metadata": {},
   "outputs": [
    {
     "name": "stdout",
     "output_type": "stream",
     "text": [
      "100000\n"
     ]
    },
    {
     "data": {
      "text/plain": [
       "array([0., 0., 0., ..., 0., 0., 0.], dtype=float32)"
      ]
     },
     "execution_count": 4,
     "metadata": {},
     "output_type": "execute_result"
    }
   ],
   "source": [
    "print(len(uncertainty))\n",
    "uncertainty"
   ]
  },
  {
   "cell_type": "code",
   "execution_count": 5,
   "metadata": {},
   "outputs": [],
   "source": [
    "original = uncertainty[0:50000-1]\n",
    "aug1 = uncertainty[50000:100000-1]\n",
    "aug2 = uncertainty[100000:150000-1]"
   ]
  },
  {
   "cell_type": "code",
   "execution_count": 7,
   "metadata": {},
   "outputs": [],
   "source": [
    "#matrix = np.vstack([original,aug1,aug2])\n",
    "matrix = np.vstack([original,aug1])\n",
    "#matrix     = np.transpose(matrix_aux)\n",
    "df_lab_img = pd.DataFrame(matrix)"
   ]
  },
  {
   "cell_type": "code",
   "execution_count": 8,
   "metadata": {},
   "outputs": [],
   "source": [
    "df_lab_img.std()\n",
    "df_lab_img = pd.DataFrame(np.vstack([matrix, df_lab_img.std()]))"
   ]
  },
  {
   "cell_type": "code",
   "execution_count": 10,
   "metadata": {},
   "outputs": [],
   "source": [
    "uncertainties_std = df_lab_img.transpose()\n",
    "uncertainties_std.columns = ['original', 'aug1', 'std']\n",
    "# uncertainties_std.columns = ['original', 'aug1', 'aug2', 'std']"
   ]
  },
  {
   "cell_type": "code",
   "execution_count": 12,
   "metadata": {},
   "outputs": [],
   "source": [
    "uncertainties_std.to_excel(\"uncertainties_std.xlsx\")"
   ]
  }
 ],
 "metadata": {
  "kernelspec": {
   "display_name": "Python 3.8.13 ('deepAugmentEnv')",
   "language": "python",
   "name": "python3"
  },
  "language_info": {
   "codemirror_mode": {
    "name": "ipython",
    "version": 3
   },
   "file_extension": ".py",
   "mimetype": "text/x-python",
   "name": "python",
   "nbconvert_exporter": "python",
   "pygments_lexer": "ipython3",
   "version": "3.8.13"
  },
  "orig_nbformat": 4,
  "vscode": {
   "interpreter": {
    "hash": "5fcb64cc0b8f44bc3cb82af8cffebd80c81d2744dc28859d8b272056cb1c5b84"
   }
  }
 },
 "nbformat": 4,
 "nbformat_minor": 2
}
