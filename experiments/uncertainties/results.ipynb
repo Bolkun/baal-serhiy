{
 "cells": [
  {
   "cell_type": "code",
   "execution_count": 1,
   "metadata": {},
   "outputs": [],
   "source": [
    "import pandas as pd\n",
    "import numpy as np"
   ]
  },
  {
   "cell_type": "code",
   "execution_count": 2,
   "metadata": {},
   "outputs": [],
   "source": [
    "mypickle = pd.read_pickle(\"uncertainty_epoch80_labelled21300.pkl\")\n",
    "excelfile = \"uncertainty_epoch80_labelled21300.xlsx\""
   ]
  },
  {
   "cell_type": "code",
   "execution_count": 3,
   "metadata": {},
   "outputs": [],
   "source": [
    "mypickle\n",
    "uncertainty = mypickle['uncertainty']\n",
    "oracle_indices = mypickle['oracle_indices']\n",
    "labelled_map = mypickle['labelled_map']"
   ]
  },
  {
   "cell_type": "code",
   "execution_count": 4,
   "metadata": {},
   "outputs": [
    {
     "data": {
      "text/plain": [
       "array([ 57286, 104942,  86483, ...,  18125,  68125,  24719], dtype=int64)"
      ]
     },
     "execution_count": 4,
     "metadata": {},
     "output_type": "execute_result"
    }
   ],
   "source": [
    "len(oracle_indices) # 150000\n",
    "oracle_indices"
   ]
  },
  {
   "cell_type": "code",
   "execution_count": 5,
   "metadata": {},
   "outputs": [
    {
     "name": "stdout",
     "output_type": "stream",
     "text": [
      "150000\n"
     ]
    },
    {
     "data": {
      "text/plain": [
       "array([0.01699404, 0.00845005, 0.00102425, ..., 0.11669621, 0.07163577,\n",
       "       0.13702059], dtype=float32)"
      ]
     },
     "execution_count": 5,
     "metadata": {},
     "output_type": "execute_result"
    }
   ],
   "source": [
    "print(len(uncertainty))\n",
    "uncertainty"
   ]
  },
  {
   "cell_type": "code",
   "execution_count": 6,
   "metadata": {},
   "outputs": [],
   "source": [
    "original = uncertainty[0:50000-1]\n",
    "aug1 = uncertainty[50000:100000-1]\n",
    "aug2 = uncertainty[100000:150000-1]"
   ]
  },
  {
   "cell_type": "code",
   "execution_count": 24,
   "metadata": {},
   "outputs": [
    {
     "data": {
      "text/plain": [
       "49999"
      ]
     },
     "execution_count": 24,
     "metadata": {},
     "output_type": "execute_result"
    }
   ],
   "source": [
    "len(aug2)"
   ]
  },
  {
   "cell_type": "code",
   "execution_count": 8,
   "metadata": {},
   "outputs": [],
   "source": [
    "uncertainty_length = len(uncertainty)\n",
    "if uncertainty_length == 100000:\n",
    "    matrix = np.vstack([original,aug1])\n",
    "if uncertainty_length == 150000:    \n",
    "    matrix = np.vstack([original,aug1,aug2])\n",
    "#matrix = np.vstack([original,aug1])\n",
    "#matrix     = np.transpose(matrix_aux)\n",
    "df_lab_img = pd.DataFrame(matrix)"
   ]
  },
  {
   "cell_type": "code",
   "execution_count": 9,
   "metadata": {},
   "outputs": [
    {
     "data": {
      "text/html": [
       "<div>\n",
       "<style scoped>\n",
       "    .dataframe tbody tr th:only-of-type {\n",
       "        vertical-align: middle;\n",
       "    }\n",
       "\n",
       "    .dataframe tbody tr th {\n",
       "        vertical-align: top;\n",
       "    }\n",
       "\n",
       "    .dataframe thead th {\n",
       "        text-align: right;\n",
       "    }\n",
       "</style>\n",
       "<table border=\"1\" class=\"dataframe\">\n",
       "  <thead>\n",
       "    <tr style=\"text-align: right;\">\n",
       "      <th></th>\n",
       "      <th>0</th>\n",
       "      <th>1</th>\n",
       "      <th>2</th>\n",
       "      <th>3</th>\n",
       "      <th>4</th>\n",
       "      <th>5</th>\n",
       "      <th>6</th>\n",
       "      <th>7</th>\n",
       "      <th>8</th>\n",
       "      <th>9</th>\n",
       "      <th>...</th>\n",
       "      <th>49989</th>\n",
       "      <th>49990</th>\n",
       "      <th>49991</th>\n",
       "      <th>49992</th>\n",
       "      <th>49993</th>\n",
       "      <th>49994</th>\n",
       "      <th>49995</th>\n",
       "      <th>49996</th>\n",
       "      <th>49997</th>\n",
       "      <th>49998</th>\n",
       "    </tr>\n",
       "  </thead>\n",
       "  <tbody>\n",
       "    <tr>\n",
       "      <th>0</th>\n",
       "      <td>0.016994</td>\n",
       "      <td>0.008450</td>\n",
       "      <td>0.001024</td>\n",
       "      <td>0.000316</td>\n",
       "      <td>0.000014</td>\n",
       "      <td>0.060194</td>\n",
       "      <td>0.129119</td>\n",
       "      <td>0.000601</td>\n",
       "      <td>0.003817</td>\n",
       "      <td>0.169960</td>\n",
       "      <td>...</td>\n",
       "      <td>0.000312</td>\n",
       "      <td>0.258320</td>\n",
       "      <td>0.036453</td>\n",
       "      <td>0.036856</td>\n",
       "      <td>0.048701</td>\n",
       "      <td>0.095779</td>\n",
       "      <td>0.051191</td>\n",
       "      <td>0.120648</td>\n",
       "      <td>0.136553</td>\n",
       "      <td>0.036120</td>\n",
       "    </tr>\n",
       "    <tr>\n",
       "      <th>1</th>\n",
       "      <td>0.020997</td>\n",
       "      <td>0.002147</td>\n",
       "      <td>0.000179</td>\n",
       "      <td>0.002526</td>\n",
       "      <td>0.001095</td>\n",
       "      <td>0.057168</td>\n",
       "      <td>0.117601</td>\n",
       "      <td>0.000518</td>\n",
       "      <td>0.014382</td>\n",
       "      <td>0.152027</td>\n",
       "      <td>...</td>\n",
       "      <td>0.010312</td>\n",
       "      <td>0.103035</td>\n",
       "      <td>0.021093</td>\n",
       "      <td>0.007875</td>\n",
       "      <td>0.104311</td>\n",
       "      <td>0.059962</td>\n",
       "      <td>0.066966</td>\n",
       "      <td>0.248387</td>\n",
       "      <td>0.086192</td>\n",
       "      <td>0.023786</td>\n",
       "    </tr>\n",
       "    <tr>\n",
       "      <th>2</th>\n",
       "      <td>0.040864</td>\n",
       "      <td>0.002540</td>\n",
       "      <td>0.001851</td>\n",
       "      <td>0.000303</td>\n",
       "      <td>0.000123</td>\n",
       "      <td>0.149709</td>\n",
       "      <td>0.079170</td>\n",
       "      <td>0.119786</td>\n",
       "      <td>0.081959</td>\n",
       "      <td>0.187783</td>\n",
       "      <td>...</td>\n",
       "      <td>0.002284</td>\n",
       "      <td>0.177339</td>\n",
       "      <td>0.034937</td>\n",
       "      <td>0.090787</td>\n",
       "      <td>0.038218</td>\n",
       "      <td>0.055336</td>\n",
       "      <td>0.112343</td>\n",
       "      <td>0.160828</td>\n",
       "      <td>0.116696</td>\n",
       "      <td>0.071636</td>\n",
       "    </tr>\n",
       "  </tbody>\n",
       "</table>\n",
       "<p>3 rows × 49999 columns</p>\n",
       "</div>"
      ],
      "text/plain": [
       "      0         1         2         3         4         5         6      \\\n",
       "0  0.016994  0.008450  0.001024  0.000316  0.000014  0.060194  0.129119   \n",
       "1  0.020997  0.002147  0.000179  0.002526  0.001095  0.057168  0.117601   \n",
       "2  0.040864  0.002540  0.001851  0.000303  0.000123  0.149709  0.079170   \n",
       "\n",
       "      7         8         9      ...     49989     49990     49991     49992  \\\n",
       "0  0.000601  0.003817  0.169960  ...  0.000312  0.258320  0.036453  0.036856   \n",
       "1  0.000518  0.014382  0.152027  ...  0.010312  0.103035  0.021093  0.007875   \n",
       "2  0.119786  0.081959  0.187783  ...  0.002284  0.177339  0.034937  0.090787   \n",
       "\n",
       "      49993     49994     49995     49996     49997     49998  \n",
       "0  0.048701  0.095779  0.051191  0.120648  0.136553  0.036120  \n",
       "1  0.104311  0.059962  0.066966  0.248387  0.086192  0.023786  \n",
       "2  0.038218  0.055336  0.112343  0.160828  0.116696  0.071636  \n",
       "\n",
       "[3 rows x 49999 columns]"
      ]
     },
     "execution_count": 9,
     "metadata": {},
     "output_type": "execute_result"
    }
   ],
   "source": [
    "df_lab_img"
   ]
  },
  {
   "cell_type": "code",
   "execution_count": 10,
   "metadata": {},
   "outputs": [],
   "source": [
    "df_lab_img.std()\n",
    "df_lab_img = pd.DataFrame(np.vstack([matrix, df_lab_img.std()]))"
   ]
  },
  {
   "cell_type": "code",
   "execution_count": 11,
   "metadata": {},
   "outputs": [
    {
     "data": {
      "text/plain": [
       "0        0.012430\n",
       "1        0.002914\n",
       "2        0.000689\n",
       "3        0.001051\n",
       "4        0.000495\n",
       "           ...   \n",
       "49994    0.030133\n",
       "49995    0.034353\n",
       "49996    0.077080\n",
       "49997    0.048532\n",
       "49998    0.022400\n",
       "Length: 49999, dtype: float32"
      ]
     },
     "execution_count": 11,
     "metadata": {},
     "output_type": "execute_result"
    }
   ],
   "source": [
    "df_lab_img.std()"
   ]
  },
  {
   "cell_type": "code",
   "execution_count": 12,
   "metadata": {},
   "outputs": [],
   "source": [
    "uncertainties_std = df_lab_img.transpose()"
   ]
  },
  {
   "cell_type": "code",
   "execution_count": 13,
   "metadata": {},
   "outputs": [
    {
     "data": {
      "text/html": [
       "<div>\n",
       "<style scoped>\n",
       "    .dataframe tbody tr th:only-of-type {\n",
       "        vertical-align: middle;\n",
       "    }\n",
       "\n",
       "    .dataframe tbody tr th {\n",
       "        vertical-align: top;\n",
       "    }\n",
       "\n",
       "    .dataframe thead th {\n",
       "        text-align: right;\n",
       "    }\n",
       "</style>\n",
       "<table border=\"1\" class=\"dataframe\">\n",
       "  <thead>\n",
       "    <tr style=\"text-align: right;\">\n",
       "      <th></th>\n",
       "      <th>0</th>\n",
       "      <th>1</th>\n",
       "      <th>2</th>\n",
       "      <th>3</th>\n",
       "    </tr>\n",
       "  </thead>\n",
       "  <tbody>\n",
       "    <tr>\n",
       "      <th>0</th>\n",
       "      <td>0.016994</td>\n",
       "      <td>0.020997</td>\n",
       "      <td>0.040864</td>\n",
       "      <td>0.012783</td>\n",
       "    </tr>\n",
       "    <tr>\n",
       "      <th>1</th>\n",
       "      <td>0.008450</td>\n",
       "      <td>0.002147</td>\n",
       "      <td>0.002540</td>\n",
       "      <td>0.003531</td>\n",
       "    </tr>\n",
       "    <tr>\n",
       "      <th>2</th>\n",
       "      <td>0.001024</td>\n",
       "      <td>0.000179</td>\n",
       "      <td>0.001851</td>\n",
       "      <td>0.000836</td>\n",
       "    </tr>\n",
       "    <tr>\n",
       "      <th>3</th>\n",
       "      <td>0.000316</td>\n",
       "      <td>0.002526</td>\n",
       "      <td>0.000303</td>\n",
       "      <td>0.001280</td>\n",
       "    </tr>\n",
       "    <tr>\n",
       "      <th>4</th>\n",
       "      <td>0.000014</td>\n",
       "      <td>0.001095</td>\n",
       "      <td>0.000123</td>\n",
       "      <td>0.000595</td>\n",
       "    </tr>\n",
       "    <tr>\n",
       "      <th>...</th>\n",
       "      <td>...</td>\n",
       "      <td>...</td>\n",
       "      <td>...</td>\n",
       "      <td>...</td>\n",
       "    </tr>\n",
       "    <tr>\n",
       "      <th>49994</th>\n",
       "      <td>0.095779</td>\n",
       "      <td>0.059962</td>\n",
       "      <td>0.055336</td>\n",
       "      <td>0.022136</td>\n",
       "    </tr>\n",
       "    <tr>\n",
       "      <th>49995</th>\n",
       "      <td>0.051191</td>\n",
       "      <td>0.066966</td>\n",
       "      <td>0.112343</td>\n",
       "      <td>0.031748</td>\n",
       "    </tr>\n",
       "    <tr>\n",
       "      <th>49996</th>\n",
       "      <td>0.120648</td>\n",
       "      <td>0.248387</td>\n",
       "      <td>0.160828</td>\n",
       "      <td>0.065317</td>\n",
       "    </tr>\n",
       "    <tr>\n",
       "      <th>49997</th>\n",
       "      <td>0.136553</td>\n",
       "      <td>0.086192</td>\n",
       "      <td>0.116696</td>\n",
       "      <td>0.025367</td>\n",
       "    </tr>\n",
       "    <tr>\n",
       "      <th>49998</th>\n",
       "      <td>0.036120</td>\n",
       "      <td>0.023786</td>\n",
       "      <td>0.071636</td>\n",
       "      <td>0.024843</td>\n",
       "    </tr>\n",
       "  </tbody>\n",
       "</table>\n",
       "<p>49999 rows × 4 columns</p>\n",
       "</div>"
      ],
      "text/plain": [
       "              0         1         2         3\n",
       "0      0.016994  0.020997  0.040864  0.012783\n",
       "1      0.008450  0.002147  0.002540  0.003531\n",
       "2      0.001024  0.000179  0.001851  0.000836\n",
       "3      0.000316  0.002526  0.000303  0.001280\n",
       "4      0.000014  0.001095  0.000123  0.000595\n",
       "...         ...       ...       ...       ...\n",
       "49994  0.095779  0.059962  0.055336  0.022136\n",
       "49995  0.051191  0.066966  0.112343  0.031748\n",
       "49996  0.120648  0.248387  0.160828  0.065317\n",
       "49997  0.136553  0.086192  0.116696  0.025367\n",
       "49998  0.036120  0.023786  0.071636  0.024843\n",
       "\n",
       "[49999 rows x 4 columns]"
      ]
     },
     "execution_count": 13,
     "metadata": {},
     "output_type": "execute_result"
    }
   ],
   "source": [
    "uncertainties_std"
   ]
  },
  {
   "cell_type": "code",
   "execution_count": 14,
   "metadata": {},
   "outputs": [],
   "source": [
    "if uncertainty_length == 100000:\n",
    "    uncertainties_std.columns = ['original', 'aug1', 'std']\n",
    "if uncertainty_length == 150000:    \n",
    "    uncertainties_std.columns = ['original', 'aug1', 'aug2', 'std']"
   ]
  },
  {
   "cell_type": "code",
   "execution_count": 15,
   "metadata": {},
   "outputs": [
    {
     "data": {
      "text/html": [
       "<div>\n",
       "<style scoped>\n",
       "    .dataframe tbody tr th:only-of-type {\n",
       "        vertical-align: middle;\n",
       "    }\n",
       "\n",
       "    .dataframe tbody tr th {\n",
       "        vertical-align: top;\n",
       "    }\n",
       "\n",
       "    .dataframe thead th {\n",
       "        text-align: right;\n",
       "    }\n",
       "</style>\n",
       "<table border=\"1\" class=\"dataframe\">\n",
       "  <thead>\n",
       "    <tr style=\"text-align: right;\">\n",
       "      <th></th>\n",
       "      <th>original</th>\n",
       "      <th>aug1</th>\n",
       "      <th>aug2</th>\n",
       "      <th>std</th>\n",
       "    </tr>\n",
       "  </thead>\n",
       "  <tbody>\n",
       "    <tr>\n",
       "      <th>0</th>\n",
       "      <td>0.016994</td>\n",
       "      <td>0.020997</td>\n",
       "      <td>0.040864</td>\n",
       "      <td>0.012783</td>\n",
       "    </tr>\n",
       "    <tr>\n",
       "      <th>1</th>\n",
       "      <td>0.008450</td>\n",
       "      <td>0.002147</td>\n",
       "      <td>0.002540</td>\n",
       "      <td>0.003531</td>\n",
       "    </tr>\n",
       "    <tr>\n",
       "      <th>2</th>\n",
       "      <td>0.001024</td>\n",
       "      <td>0.000179</td>\n",
       "      <td>0.001851</td>\n",
       "      <td>0.000836</td>\n",
       "    </tr>\n",
       "    <tr>\n",
       "      <th>3</th>\n",
       "      <td>0.000316</td>\n",
       "      <td>0.002526</td>\n",
       "      <td>0.000303</td>\n",
       "      <td>0.001280</td>\n",
       "    </tr>\n",
       "    <tr>\n",
       "      <th>4</th>\n",
       "      <td>0.000014</td>\n",
       "      <td>0.001095</td>\n",
       "      <td>0.000123</td>\n",
       "      <td>0.000595</td>\n",
       "    </tr>\n",
       "    <tr>\n",
       "      <th>...</th>\n",
       "      <td>...</td>\n",
       "      <td>...</td>\n",
       "      <td>...</td>\n",
       "      <td>...</td>\n",
       "    </tr>\n",
       "    <tr>\n",
       "      <th>49994</th>\n",
       "      <td>0.095779</td>\n",
       "      <td>0.059962</td>\n",
       "      <td>0.055336</td>\n",
       "      <td>0.022136</td>\n",
       "    </tr>\n",
       "    <tr>\n",
       "      <th>49995</th>\n",
       "      <td>0.051191</td>\n",
       "      <td>0.066966</td>\n",
       "      <td>0.112343</td>\n",
       "      <td>0.031748</td>\n",
       "    </tr>\n",
       "    <tr>\n",
       "      <th>49996</th>\n",
       "      <td>0.120648</td>\n",
       "      <td>0.248387</td>\n",
       "      <td>0.160828</td>\n",
       "      <td>0.065317</td>\n",
       "    </tr>\n",
       "    <tr>\n",
       "      <th>49997</th>\n",
       "      <td>0.136553</td>\n",
       "      <td>0.086192</td>\n",
       "      <td>0.116696</td>\n",
       "      <td>0.025367</td>\n",
       "    </tr>\n",
       "    <tr>\n",
       "      <th>49998</th>\n",
       "      <td>0.036120</td>\n",
       "      <td>0.023786</td>\n",
       "      <td>0.071636</td>\n",
       "      <td>0.024843</td>\n",
       "    </tr>\n",
       "  </tbody>\n",
       "</table>\n",
       "<p>49999 rows × 4 columns</p>\n",
       "</div>"
      ],
      "text/plain": [
       "       original      aug1      aug2       std\n",
       "0      0.016994  0.020997  0.040864  0.012783\n",
       "1      0.008450  0.002147  0.002540  0.003531\n",
       "2      0.001024  0.000179  0.001851  0.000836\n",
       "3      0.000316  0.002526  0.000303  0.001280\n",
       "4      0.000014  0.001095  0.000123  0.000595\n",
       "...         ...       ...       ...       ...\n",
       "49994  0.095779  0.059962  0.055336  0.022136\n",
       "49995  0.051191  0.066966  0.112343  0.031748\n",
       "49996  0.120648  0.248387  0.160828  0.065317\n",
       "49997  0.136553  0.086192  0.116696  0.025367\n",
       "49998  0.036120  0.023786  0.071636  0.024843\n",
       "\n",
       "[49999 rows x 4 columns]"
      ]
     },
     "execution_count": 15,
     "metadata": {},
     "output_type": "execute_result"
    }
   ],
   "source": [
    "uncertainties_std"
   ]
  },
  {
   "cell_type": "code",
   "execution_count": 16,
   "metadata": {},
   "outputs": [],
   "source": [
    "uncertainties_std.to_excel(excelfile)"
   ]
  },
  {
   "attachments": {},
   "cell_type": "markdown",
   "metadata": {},
   "source": [
    "Test"
   ]
  },
  {
   "cell_type": "code",
   "execution_count": 17,
   "metadata": {},
   "outputs": [
    {
     "data": {
      "text/plain": [
       "150000"
      ]
     },
     "execution_count": 17,
     "metadata": {},
     "output_type": "execute_result"
    }
   ],
   "source": [
    "len(uncertainty)"
   ]
  },
  {
   "cell_type": "code",
   "execution_count": 18,
   "metadata": {},
   "outputs": [
    {
     "data": {
      "text/plain": [
       "49999"
      ]
     },
     "execution_count": 18,
     "metadata": {},
     "output_type": "execute_result"
    }
   ],
   "source": [
    "len(df_lab_img.std())"
   ]
  },
  {
   "cell_type": "code",
   "execution_count": 19,
   "metadata": {},
   "outputs": [],
   "source": [
    "std_array = df_lab_img.std()\n",
    "uncertainty2 = uncertainty\n",
    "for i in range(len(uncertainty)): # 150000\n",
    "  uncertainty2[i] = std_array[i % (50000-1)]"
   ]
  },
  {
   "cell_type": "code",
   "execution_count": 20,
   "metadata": {},
   "outputs": [
    {
     "name": "stdout",
     "output_type": "stream",
     "text": [
      "0.012430462\n",
      "0.012430462\n",
      "0.012430462\n",
      "0.0029142254\n",
      "0.0029142254\n",
      "0.0029142254\n"
     ]
    }
   ],
   "source": [
    "print(uncertainty2[0])\n",
    "print(uncertainty2[49999])\n",
    "print(uncertainty2[99998])\n",
    "\n",
    "print(uncertainty2[1])\n",
    "print(uncertainty2[50000])\n",
    "print(uncertainty2[99999])"
   ]
  },
  {
   "cell_type": "code",
   "execution_count": 21,
   "metadata": {},
   "outputs": [],
   "source": [
    "oracle_indices = np.argsort(uncertainty2)"
   ]
  },
  {
   "cell_type": "code",
   "execution_count": 22,
   "metadata": {},
   "outputs": [
    {
     "data": {
      "text/plain": [
       "array([107284,  57285,   7286, ..., 118123,  68124,  18125], dtype=int64)"
      ]
     },
     "execution_count": 22,
     "metadata": {},
     "output_type": "execute_result"
    }
   ],
   "source": [
    "oracle_indices"
   ]
  },
  {
   "cell_type": "code",
   "execution_count": 23,
   "metadata": {},
   "outputs": [
    {
     "data": {
      "text/plain": [
       "array([    0,  8196,     0, ...,     0,     0, 10933], dtype=int64)"
      ]
     },
     "execution_count": 23,
     "metadata": {},
     "output_type": "execute_result"
    }
   ],
   "source": [
    "labelled_map"
   ]
  }
 ],
 "metadata": {
  "kernelspec": {
   "display_name": "Python 3.8.13 ('deepAugmentEnv')",
   "language": "python",
   "name": "python3"
  },
  "language_info": {
   "codemirror_mode": {
    "name": "ipython",
    "version": 3
   },
   "file_extension": ".py",
   "mimetype": "text/x-python",
   "name": "python",
   "nbconvert_exporter": "python",
   "pygments_lexer": "ipython3",
   "version": "3.8.13 (default, Mar 28 2022, 06:59:08) [MSC v.1916 64 bit (AMD64)]"
  },
  "orig_nbformat": 4,
  "vscode": {
   "interpreter": {
    "hash": "5fcb64cc0b8f44bc3cb82af8cffebd80c81d2744dc28859d8b272056cb1c5b84"
   }
  }
 },
 "nbformat": 4,
 "nbformat_minor": 2
}
